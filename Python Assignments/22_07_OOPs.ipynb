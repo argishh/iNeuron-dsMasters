{
 "cells": [
  {
   "cell_type": "markdown",
   "metadata": {},
   "source": [
    "#### `Q1`\n",
    "\n",
    "The primary goal of OOP is to model real-world entities and their interactions in a structured and organized manner. Through OOP, we aim to generalize the repetative element of the code into a more structured and potentially secure code that utilizes abstraction to hide elements and entities from user at the top level."
   ]
  },
  {
   "cell_type": "markdown",
   "metadata": {},
   "source": [
    "#### `Q2`\n",
    "\n",
    "An object in python is nothing but a variable that is of type \"class\" and the class is the custom class defined by us. In other words, the object is the instance of the class. "
   ]
  },
  {
   "cell_type": "code",
   "execution_count": 54,
   "metadata": {},
   "outputs": [
    {
     "name": "stdout",
     "output_type": "stream",
     "text": [
      "Name: Argish\n",
      "Gender: Male\n"
     ]
    }
   ],
   "source": [
    "class Human:\n",
    "    def __init__(self, name, gender):\n",
    "        self.name = name\n",
    "        self.gender = gender\n",
    "        \n",
    "    def print(self):\n",
    "        print(f\"Name: {self.name}\\nGender: {self.gender}\")\n",
    "\n",
    "argish = Human(\"Argish\", \"Male\") # Object of class Human\n",
    "argish.print()"
   ]
  },
  {
   "cell_type": "markdown",
   "metadata": {},
   "source": [
    "#### `Q3`\n",
    "\n",
    "A class in python is kind of a blueprint that is utilized when we have to create multiple objects that have similar properties. It basically creates a new data type in python that can be then assigned to newly created variables and those variables will be then called the object of that class. It lets us not only create a new data type but also define their properties and attributes."
   ]
  },
  {
   "cell_type": "code",
   "execution_count": 55,
   "metadata": {},
   "outputs": [
    {
     "name": "stdout",
     "output_type": "stream",
     "text": [
      "Name: Argish\n",
      "Gender: Male\n"
     ]
    }
   ],
   "source": [
    "class Human:  # A Class named Human\n",
    "    def __init__(self, name, gender):\n",
    "        self.name = name\n",
    "        self.gender = gender\n",
    "        \n",
    "    def print(self):\n",
    "        print(f\"Name: {self.name}\\nGender: {self.gender}\")\n",
    "\n",
    "argish = Human(\"Argish\", \"Male\") # Object of class Human\n",
    "argish.print()"
   ]
  },
  {
   "cell_type": "markdown",
   "metadata": {},
   "source": [
    "#### `Q4`\n",
    "Attributes and methods in class are properties that defines the characteristics and behaviour of the objects created from the class. \n",
    "\n",
    "Attributes are variables that stores information related to the object, whereas \n",
    "\n",
    "Methods are functions that can be used to perform actions on the object or define its interactions with other objects with different datatypes."
   ]
  },
  {
   "cell_type": "code",
   "execution_count": 56,
   "metadata": {},
   "outputs": [
    {
     "name": "stdout",
     "output_type": "stream",
     "text": [
      "Name: Argish\n",
      "Gender: Male\n"
     ]
    }
   ],
   "source": [
    "class Human:  # A Class named Human\n",
    "    def __init__(self, name, gender):  # ----> constructor method\n",
    "        self.name = name        # ---> Attribute name\n",
    "        self.gender = gender    # ---> Attribute gender\n",
    "    \n",
    "    def print(self): # ---> Method print \n",
    "        print(f\"Name: {self.name}\\nGender: {self.gender}\")\n",
    "\n",
    "argish = Human(\"Argish\", \"Male\") # Object of class Human\n",
    "argish.print()"
   ]
  },
  {
   "cell_type": "markdown",
   "metadata": {},
   "source": [
    "#### `Q5`\n",
    "Difference between class variables and instance variables in pytohn is that -\n",
    "\n",
    "Class variables are defined within the class but outside of methods. When a class variable is modified, it's change is reflected in all instances of the class, since they point towards the same variable instance in the memory. It us used to store data that is common to all instances of the class.\n",
    "\n",
    "Instance variables are defined within the class but inside the \\_\\_init__ method. they are specific to each particular instance of the class, meaning its change won't be reflected in all instances of the class. It is used to store data that is unique to each instance. "
   ]
  },
  {
   "cell_type": "code",
   "execution_count": 57,
   "metadata": {},
   "outputs": [
    {
     "name": "stdout",
     "output_type": "stream",
     "text": [
      "Name: Argish\n",
      "Gender: Male\n",
      "From planet Earth\n"
     ]
    }
   ],
   "source": [
    "class Human:  # A Class named Human\n",
    "    planet_of_origin = \"Earth\" ### Class Variable\n",
    "\n",
    "    def __init__(self, name, gender):  # ----> constructor method\n",
    "        self.name = name        # ---> Attribute name       ### Instance Variable\n",
    "        self.gender = gender    # ---> Attribute gender     ### Instance Variable\n",
    "    \n",
    "    def print(self): # ---> Method print \n",
    "        print(f\"Name: {self.name}\\nGender: {self.gender}\\nFrom planet {self.planet_of_origin}\")\n",
    "\n",
    "argish = Human(\"Argish\", \"Male\") # Object of class Human\n",
    "argish.print()"
   ]
  },
  {
   "cell_type": "markdown",
   "metadata": {},
   "source": [
    "#### `Q6`\n",
    "'self' is used to refer to the object that calls the method. It helps to differentiate between instance variables and method's arguments that are passed along by the object and since there can be multiple objects for same class, 'self' parameter helps python differentiate between these unique instances of the class. Also, 'self' is not a keyword, rather we can use any name instaed of self but it is the common python convention."
   ]
  },
  {
   "cell_type": "markdown",
   "metadata": {},
   "source": [
    "#### `Q7`"
   ]
  },
  {
   "cell_type": "code",
   "execution_count": 58,
   "metadata": {},
   "outputs": [
    {
     "name": "stdout",
     "output_type": "stream",
     "text": [
      "Title: Harry Potter and the Philosophers Stone\n",
      "Author: J. K. Rowling\n",
      "ISBN: IDK1234               \n",
      "Publication Year: 1997\n",
      "Available Copies: 1\n",
      "\n",
      "Checked Out - Harry Potter and the Philosophers Stone.\n",
      "Avaible copies: 0\n",
      "\n",
      "Returned - Harry Potter and the Philosophers Stone.\n",
      "Avaible copies: 1\n"
     ]
    }
   ],
   "source": [
    "class Book:\n",
    "    def __init__(self, title, author, isbn, publication_year, available_copies):\n",
    "        self.title = title\n",
    "        self.author = author\n",
    "        self.isbn = isbn\n",
    "        self.publication_year = publication_year\n",
    "        self.available_copies = available_copies\n",
    "\n",
    "    def check_out(self):\n",
    "        if self.available_copies > 0:\n",
    "            self.available_copies -= 1\n",
    "            print(f\"\\nChecked Out - {self.title}.\\nAvaible copies: {self.available_copies}\")\n",
    "        else:\n",
    "            print(\"\\nError: No copies available!\")\n",
    "    \n",
    "    def return_book(self):\n",
    "        self.available_copies += 1\n",
    "        print(f\"\\nReturned - {self.title}.\\nAvaible copies: {self.available_copies}\")\n",
    "\n",
    "\n",
    "    def display_book_info(self):\n",
    "        print(f\"Title: {self.title}\\nAuthor: {self.author}\\nISBN: {self.isbn} \\\n",
    "              \\nPublication Year: {self.publication_year}\\nAvailable Copies: {self.available_copies}\")\n",
    "\n",
    "harry_potter_1 = Book('Harry Potter and the Philosophers Stone', 'J. K. Rowling', 'IDK1234', 1997, 1)\n",
    "harry_potter_1.display_book_info()\n",
    "harry_potter_1.check_out()\n",
    "harry_potter_1.return_book()"
   ]
  },
  {
   "cell_type": "markdown",
   "metadata": {},
   "source": [
    "#### `Q8`"
   ]
  },
  {
   "cell_type": "code",
   "execution_count": 59,
   "metadata": {},
   "outputs": [
    {
     "name": "stdout",
     "output_type": "stream",
     "text": [
      "Ticket No: IDK1234ICC23\n",
      "Seat No: A-12\n",
      "Event: ICC World Cup '23               \n",
      "Date: 22/07/2023\n",
      "Venue: XYZ Stadium, Gujarat\n",
      "Price: 6999\n",
      "Ticket Reserved: No\n",
      "\n",
      "Ticket IDK1234ICC23 is now reserved!\n",
      "\n",
      "Reservation for Ticket IDK1234ICC23 is Cancelled!\n"
     ]
    }
   ],
   "source": [
    "class Ticket:\n",
    "    def __init__(self, ticket_id, event_name, event_date, venue, seat_number, price, is_reserved)->None:\n",
    "        self.ticket_id = ticket_id\n",
    "        self.event_name = event_name\n",
    "        self.event_date = event_date\n",
    "        self.venue = venue\n",
    "        self.seat_number = seat_number\n",
    "        self.price = price\n",
    "        self.is_reserved = is_reserved\n",
    "\n",
    "    def reserve_ticket(self):\n",
    "        if self.is_reserved == True:\n",
    "            print(f\"\\nError: Ticket {self.ticket_id} already reserved!\")\n",
    "        else:\n",
    "            self.is_reserved = True\n",
    "            print(f\"\\nTicket {self.ticket_id} is now reserved!\")\n",
    "\n",
    "    def cancel_reservation(self):\n",
    "        if self.is_reserved == True:\n",
    "            self.is_reserved = False\n",
    "            print(f\"\\nReservation for Ticket {self.ticket_id} is Cancelled!\")\n",
    "        else:\n",
    "            print(f\"\\nError - Ticket {self.ticket_id} cannot be cancelled.\\nReason: It is not yet researved!\")\n",
    "\n",
    "    def display_ticket_info(self):\n",
    "        print(f\"Ticket No: {self.ticket_id}\\nSeat No: {self.seat_number}\\nEvent: {self.event_name} \\\n",
    "              \\nDate: {self.event_date}\\nVenue: {self.venue}\\nPrice: {self.price}\\nTicket Reserved: {'Yes' if self.is_reserved else 'No'}\")\n",
    "\n",
    "ticket1 = Ticket(\"IDK1234ICC23\", \"ICC World Cup '23\", \"22/07/2023\", \"XYZ Stadium, Gujarat\", \"A-12\", 6999, False)\n",
    "ticket1.display_ticket_info()\n",
    "\n",
    "ticket1.reserve_ticket()\n",
    "\n",
    "ticket1.cancel_reservation()\n"
   ]
  },
  {
   "cell_type": "markdown",
   "metadata": {},
   "source": [
    "#### `Q9`"
   ]
  },
  {
   "cell_type": "code",
   "execution_count": 60,
   "metadata": {},
   "outputs": [
    {
     "name": "stdout",
     "output_type": "stream",
     "text": [
      "Cart Empty!\n",
      "\n",
      "Items in Cart -\n",
      "Carrots\n",
      "Milk\n",
      "Banana\n",
      "Bounty\n",
      "\n",
      "Removed Banana\n",
      "\n",
      "Items in Cart -\n",
      "Carrots\n",
      "Milk\n",
      "Bounty\n",
      "\n",
      "Error 404: Item not found in cart!\n"
     ]
    }
   ],
   "source": [
    "class ShoppingCart:\n",
    "    def __init__(self, items=[]):\n",
    "        self.items = items\n",
    "    \n",
    "    def add_item(self, item):\n",
    "        self.items.append(item)\n",
    "    \n",
    "    def remove_item(self, item):\n",
    "        if item not in self.items:\n",
    "            print(\"\\nError 404: Item not found in cart!\")\n",
    "        else:\n",
    "            self.items.remove(item)\n",
    "            print(f\"\\nRemoved {item}\")\n",
    "\n",
    "    def view_cart(self):\n",
    "        if self.items == []:\n",
    "            print(\"Cart Empty!\")\n",
    "        else:\n",
    "            print(\"\\nItems in Cart -\")\n",
    "            [print(i) for i in self.items]\n",
    "    \n",
    "    def clear_cart(self):\n",
    "        self.items = []\n",
    "    \n",
    "cart1 = ShoppingCart()\n",
    "cart1.view_cart()\n",
    "\n",
    "cart1.add_item(\"Carrots\")\n",
    "cart1.add_item(\"Milk\")\n",
    "cart1.add_item(\"Banana\")\n",
    "cart1.add_item(\"Bounty\")\n",
    "cart1.view_cart()\n",
    "\n",
    "cart1.remove_item(\"Banana\")\n",
    "cart1.view_cart()\n",
    "\n",
    "cart1.remove_item(\"Apple\")"
   ]
  },
  {
   "cell_type": "markdown",
   "metadata": {},
   "source": [
    "#### `Q10`"
   ]
  },
  {
   "cell_type": "code",
   "execution_count": 61,
   "metadata": {},
   "outputs": [
    {
     "name": "stdout",
     "output_type": "stream",
     "text": [
      "\n",
      "20-07-2023 present\n",
      "21-07-2023 absent\n",
      "22-07-2023 present\n",
      "\n",
      "Attendence: 66.66666666666666\n"
     ]
    }
   ],
   "source": [
    "class Student:\n",
    "    def __init__(self, name, age, grade, student_id, attendance={})-> None:\n",
    "        self.name = name\n",
    "        self.age = age\n",
    "        self.grade = grade\n",
    "        self.student_id = student_id\n",
    "        self.attendance = attendance\n",
    "    \n",
    "    def update_attendance(self, date, status):\n",
    "        if status.lower() not in [\"present\", \"absent\"]:\n",
    "            print(\"\\nEnter 'present' or 'absent' as stauts.\")\n",
    "        else:\n",
    "            self.attendance[date] = status.lower()\n",
    "\n",
    "    def get_attendance(self):\n",
    "        print()\n",
    "        [print(i, j) for i,j in self.attendance.items()]\n",
    "\n",
    "    def get_average_attendance(self):\n",
    "        if len(self.attendance) == 0:\n",
    "            return 0\n",
    "\n",
    "        print('\\nAttendence:', (sum(1 for status in self.attendance.values() if status == \"present\") / len(self.attendance)) * 100)\n",
    "\n",
    "argish = Student(\"Argish A.\", 21, 10, \"IDK1234\")\n",
    "\n",
    "argish.update_attendance(\"20-07-2023\", \"present\")\n",
    "argish.update_attendance(\"21-07-2023\", \"absent\")\n",
    "argish.update_attendance(\"22-07-2023\", \"Present\")\n",
    "\n",
    "argish.get_attendance()\n",
    "\n",
    "argish.get_average_attendance()"
   ]
  },
  {
   "cell_type": "markdown",
   "metadata": {},
   "source": [
    "### `.....`"
   ]
  }
 ],
 "metadata": {
  "kernelspec": {
   "display_name": "Python 3",
   "language": "python",
   "name": "python3"
  },
  "language_info": {
   "codemirror_mode": {
    "name": "ipython",
    "version": 3
   },
   "file_extension": ".py",
   "mimetype": "text/x-python",
   "name": "python",
   "nbconvert_exporter": "python",
   "pygments_lexer": "ipython3",
   "version": "3.10.6"
  },
  "orig_nbformat": 4
 },
 "nbformat": 4,
 "nbformat_minor": 2
}
