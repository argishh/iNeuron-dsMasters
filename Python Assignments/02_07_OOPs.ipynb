{
 "cells": [
  {
   "cell_type": "markdown",
   "metadata": {},
   "source": [
    "#### `Q1`\n",
    "\n",
    "Inheritance allows a class to inherit attributes and methods from another class, making the class inheriting the properties known as subclass or derived class and the class inheriting from as the super class or base class. The subclass reuses the propertires of the superclass along with building up on certain specific properties. It allows us to reduce the code along with introducing hierarchial relationship between classes."
   ]
  },
  {
   "cell_type": "code",
   "execution_count": 7,
   "metadata": {},
   "outputs": [
    {
     "name": "stdout",
     "output_type": "stream",
     "text": [
      "This is Earth, a planet in Milky Way galaxy.\n",
      "Africa is a part of Earth with an area of 30.37M square kilometers.\n",
      "Asia is a part of Earth with an area of 44.58M square kilometers.\n"
     ]
    }
   ],
   "source": [
    "class Planet:   # Super Class or Base Class\n",
    "    def __init__(self, planet_name, galaxy_name = \"\") -> None:\n",
    "        self.planet_name = planet_name\n",
    "        self.galaxy_name = galaxy_name\n",
    "\n",
    "    def describe(self):\n",
    "        print(f\"This is {self.planet_name}, a planet in {self.galaxy_name} galaxy.\")\n",
    "\n",
    "class Continent(Planet):    # Sub Class or Derived Class\n",
    "    def __init__(self, planet_name, continent_name, area) -> None:\n",
    "        super().__init__(planet_name)   # Subclass Continent inheriting from Super class Planet\n",
    "        self.continent_name = continent_name\n",
    "        self.area = area\n",
    "\n",
    "    def describe(self):\n",
    "        print(f\"{self.continent_name} is a part of {self.planet_name} with an area of {self.area}M square kilometers.\")\n",
    "\n",
    "earth = Planet(\"Earth\", \"Milky Way\")\n",
    "earth.describe()\n",
    "\n",
    "africa = Continent(\"Earth\", \"Africa\", 30.37)\n",
    "africa.describe()\n",
    "\n",
    "asia = Continent(\"Earth\", \"Asia\", 44.58)\n",
    "asia.describe()"
   ]
  },
  {
   "cell_type": "markdown",
   "metadata": {},
   "source": [
    "#### `Q2`\n",
    "\n",
    "In single inheritance, a class can inherit attributes and methods from only one super class, makikng a linear hierarchy.\n",
    "\n",
    "In Multiple inheritance, a class inherits from more than one super class. Each class can have multiple immediate super class and thus it inherits attributes and methods from all of them. This creates a complex hierarchy in tree structure.\n",
    "\n",
    "Main difference between single and multiple inheritance is:\n",
    "1. There is only 1 super class or base class in single Inheritance whereas in multiple inheritance, there are multiple super classes.\n",
    "2. Single inheritance follows a linear hierarchy whereas multiple inheritance follows a tree like complex hierarchy.\n",
    "3. Single inheritance follows a straightforward attribute resolution path since there is only one super class. Whereas in multiple inheritance, attribute resolution may become complex. Python utilizes Method Resolution Order (MRO) to dertermine the order of inheritance of attributes and methods from multiple super classes.\n",
    "\n",
    "Advantage of single inheritance is:\n",
    "- It is simple and easy to understand and implement.\n",
    "\n",
    "Advantage of multiple inheritance is: \n",
    "- It reuses code by inheriting properties of multiple classes, hence reducing duplication.\n",
    "- It lets us create more specialized classes by coupling features of multiple super classes. "
   ]
  },
  {
   "cell_type": "markdown",
   "metadata": {},
   "source": [
    "#### `Q3`\n",
    "\n",
    "In accordance with inheritance, base class and derived class are the two classes involved in the inheritance process which is similar to a parent child relationship in which the base class is the parent class and the derived class is the child class.\n",
    "\n",
    "__`Base class`__ is the class from which the other class inherits attributes and methods. <br>\n",
    "__`Derived class`__ is the class that inherits the attributes and methods from base class.\n",
    "\n"
   ]
  },
  {
   "cell_type": "markdown",
   "metadata": {},
   "source": [
    "#### `Q4`\n",
    "\n",
    "Access modifiers in python are used to control the access of the class members outside the class. We can use them to allow modification of the class members outside the class by other parts of the program.\n",
    "\n",
    "there are 3 access modifiers :-\n",
    "1. Public access modifier -\n",
    "    - All attributes and methods when created, are set to public by default.\n",
    "    - these members can be accessed outside the class.\n",
    "    - these members can be accessed using the dot notation '.' (eg. Planet.describe())\n",
    "\n",
    "2. Private access modifier\n",
    "    - there is no specific method to declare private access to the class members, hence, double underscore '__' prefix is used to indicate that it is intended to be a private member of the class. (eg. __describe())\n",
    "    - These members can not be inherited and can only be used within the class they are declared in and not outside the class.\n",
    "    - Although the double underscore prefix exists, python name mangling allows accessing private members from outside the class using a modified name.\n",
    "\n",
    "3. Protected access modifier\n",
    "    - there is not specific method to declare protected access either, therefore, we use single underscore '_' prefix to indicate we intent to declare it as a protected member. (eg. _describe())\n",
    "    - these members are intended to be used within the class and its subclasses but not outside the class hierarchy.\n",
    "    - these members can be direcly accessed using the dot notation '.' but single underscore acts as an indicator that indicates that these members are to be treated as protected and are not supposed to be used outside their class hierarchy. (eg. Planet._describe()) "
   ]
  },
  {
   "cell_type": "markdown",
   "metadata": {},
   "source": [
    "#### `Q5`\n",
    "\n",
    "The 'super()' keyword is used in inheritance to call a method or access an attribute of the base class in the derived class. It allows the derived class to call members of the base class and initialize them or modify them.\n",
    "\n",
    "For example, in the code below, in the `Continent` class, `super().__init__(planet_name, galaxy_name)` calls the initializer of the `Planet` base class to set the `planet_name` and `galaxy_name` attributes before setting the `continent_name` and `area` attributes in the derived class. By using `super()`, the derived class ensures that the base class's initialization is performed correctly before performing its own initialization. "
   ]
  },
  {
   "cell_type": "code",
   "execution_count": 47,
   "metadata": {},
   "outputs": [
    {
     "name": "stdout",
     "output_type": "stream",
     "text": [
      "This is Earth, a planet in Milky Way galaxy.\n",
      "Asia is a part of Earth with an area of 44.58M square kilometers.\n"
     ]
    }
   ],
   "source": [
    "class Planet:   # Super Class or Base Class\n",
    "    def __init__(self, planet_name, galaxy_name = \"\") -> None:\n",
    "        self.planet_name = planet_name\n",
    "        self.galaxy_name = galaxy_name\n",
    "\n",
    "    def describe(self):\n",
    "        print(f\"This is {self.planet_name}, a planet in {self.galaxy_name} galaxy.\")\n",
    "\n",
    "class Continent(Planet):    # Sub Class or Derived Class\n",
    "    def __init__(self, continent_name, area, planet_name, galaxy_name) -> None:\n",
    "        super().__init__(planet_name, galaxy_name)\n",
    "        self.continent_name = continent_name\n",
    "        self.area = area\n",
    "\n",
    "    def describe(self):\n",
    "        super().describe()\n",
    "        print(f\"{self.continent_name} is a part of {self.planet_name} with an area of {self.area}M square kilometers.\")\n",
    "\n",
    "\n",
    "asia = Continent(\"Asia\",44.58, \"Earth\", \"Milky Way\")\n",
    "asia.describe()\n"
   ]
  },
  {
   "cell_type": "markdown",
   "metadata": {},
   "source": [
    "#### `Q6`\n",
    "\n"
   ]
  },
  {
   "cell_type": "markdown",
   "metadata": {},
   "source": [
    "#### `Q7`"
   ]
  },
  {
   "cell_type": "markdown",
   "metadata": {},
   "source": [
    "#### `Q8`"
   ]
  },
  {
   "cell_type": "markdown",
   "metadata": {},
   "source": [
    "#### `Q9`"
   ]
  },
  {
   "cell_type": "markdown",
   "metadata": {},
   "source": [
    "#### `Q10`"
   ]
  },
  {
   "cell_type": "markdown",
   "metadata": {},
   "source": [
    "### `.....`"
   ]
  }
 ],
 "metadata": {
  "kernelspec": {
   "display_name": "Python 3",
   "language": "python",
   "name": "python3"
  },
  "language_info": {
   "codemirror_mode": {
    "name": "ipython",
    "version": 3
   },
   "file_extension": ".py",
   "mimetype": "text/x-python",
   "name": "python",
   "nbconvert_exporter": "python",
   "pygments_lexer": "ipython3",
   "version": "3.10.6"
  },
  "orig_nbformat": 4
 },
 "nbformat": 4,
 "nbformat_minor": 2
}
